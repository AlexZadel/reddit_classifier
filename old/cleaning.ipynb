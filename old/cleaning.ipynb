{
 "cells": [
  {
   "cell_type": "code",
   "execution_count": 124,
   "metadata": {},
   "outputs": [],
   "source": [
    "import pandas as pd\n",
    "import numpy as np\n",
    "import requests\n",
    "import json\n",
    "import pandas as pd\n",
    "import numpy as np\n",
    "import praw\n",
    "import datetime as dt\n",
    "import requests"
   ]
  },
  {
   "cell_type": "code",
   "execution_count": 125,
   "metadata": {
    "scrolled": false
   },
   "outputs": [],
   "source": [
    "reals = pd.read_csv('./data/real_posts.csv')\n",
    "reals.drop(['Unnamed: 0', 'approved_at_utc', 'approved_by', 'archived', 'author',\n",
    "       'author_cakeday', 'author_flair_background_color',\n",
    "       'author_flair_css_class', 'author_flair_richtext',\n",
    "       'author_flair_template_id', 'author_flair_text',\n",
    "       'author_flair_text_color', 'author_flair_type', 'author_fullname',\n",
    "       'banned_at_utc', 'banned_by', 'can_gild', 'can_mod_post', 'category',\n",
    "       'clicked', 'content_categories', 'contest_mode', 'created',\n",
    "       'created_utc', 'distinguished', 'domain', 'downs', 'edited', 'gilded',\n",
    "       'hidden', 'hide_score', 'id', 'is_crosspostable', 'is_meta',\n",
    "       'is_original_content', 'is_reddit_media_domain', 'is_self', 'is_video',\n",
    "       'likes', 'link_flair_background_color', 'link_flair_css_class',\n",
    "       'link_flair_richtext', 'link_flair_template_id', 'link_flair_text',\n",
    "       'link_flair_text_color', 'link_flair_type', 'locked', 'media',\n",
    "       'media_embed', 'media_only', 'mod_note', 'mod_reason_by',\n",
    "       'mod_reason_title', 'mod_reports', 'name', 'no_follow', 'num_comments',\n",
    "       'num_crossposts', 'num_reports', 'over_18', 'parent_whitelist_status',\n",
    "       'permalink', 'pinned', 'pwls', 'quarantine', 'removal_reason',\n",
    "       'report_reasons', 'saved', 'score', 'secure_media',\n",
    "       'secure_media_embed', 'selftext', 'selftext_html', 'send_replies',\n",
    "       'spoiler', 'stickied', 'subreddit_id',\n",
    "       'subreddit_name_prefixed', 'subreddit_subscribers', 'subreddit_type',\n",
    "       'suggested_sort', 'thumbnail', 'ups', 'url', 'user_reports',\n",
    "       'view_count', 'visited', 'whitelist_status', 'wls'],\n",
    "          inplace = True, axis = 1)\n"
   ]
  },
  {
   "cell_type": "code",
   "execution_count": 126,
   "metadata": {
    "scrolled": true
   },
   "outputs": [
    {
     "data": {
      "text/plain": [
       "subreddit    0\n",
       "title        0\n",
       "dtype: int64"
      ]
     },
     "execution_count": 126,
     "metadata": {},
     "output_type": "execute_result"
    }
   ],
   "source": [
    "reals.isnull().sum()"
   ]
  },
  {
   "cell_type": "code",
   "execution_count": 127,
   "metadata": {},
   "outputs": [],
   "source": [
    "fakes = pd.read_csv('./data/fake_posts.csv')\n",
    "\n",
    "fakes.drop(['thumbnail_height', 'thumbnail_width', 'ups', 'url',\n",
    "            'user_reports', 'view_count', 'visited', 'whitelist_status', 'wls',\n",
    "            'Unnamed: 0', 'approved_at_utc', 'approved_by', 'archived', 'author',\n",
    "            'author_flair_background_color', 'author_flair_css_class', \n",
    "            'author_flair_richtext', 'author_flair_template_id', \n",
    "            'author_flair_text', 'author_flair_text_color', 'author_flair_type', 'author_fullname',\n",
    "            'banned_at_utc', 'banned_by', 'body_html', 'can_gild',\n",
    "            'can_mod_post', 'category', 'clicked', 'collapsed', 'collapsed_reason',\n",
    "            'content_categories', 'contest_mode', 'controversiality', 'created',\n",
    "            'created_utc', 'distinguished', 'domain', 'downs', 'edited', 'gilded',\n",
    "            'hidden', 'hide_score', 'id', 'is_crosspostable', 'is_meta',\n",
    "            'is_original_content', 'is_reddit_media_domain', 'is_self',\n",
    "            'is_submitter', 'is_video', 'likes', 'link_author',\n",
    "            'link_flair_background_color', 'link_flair_css_class',\n",
    "            'link_flair_richtext', 'link_flair_template_id', 'link_flair_text',\n",
    "            'link_flair_text_color', 'link_flair_type', 'link_id', 'link_permalink',\n",
    "            'link_title', 'link_url', 'locked', 'media', 'media_embed',\n",
    "            'media_only', 'mod_note', 'mod_reason_by', 'mod_reason_title',\n",
    "            'mod_reports', 'name', 'no_follow', 'num_comments', 'num_crossposts',\n",
    "            'num_reports', 'over_18', 'parent_id', 'parent_whitelist_status',\n",
    "            'permalink', 'pinned', 'post_hint', 'preview', 'pwls', 'quarantine',\n",
    "            'removal_reason', 'replies', 'report_reasons', 'saved', 'score',\n",
    "            'score_hidden', 'secure_media', 'secure_media_embed', 'selftext',\n",
    "            'selftext_html', 'send_replies', 'spoiler', 'stickied', \n",
    "            'subreddit_id', 'subreddit_name_prefixed', 'subreddit_subscribers',\n",
    "            'subreddit_type', 'suggested_sort', 'thumbnail'], \n",
    "             axis = 1, inplace = True)\n"
   ]
  },
  {
   "cell_type": "code",
   "execution_count": 129,
   "metadata": {},
   "outputs": [],
   "source": [
    "# fill nulls with empty space so makes sense when text cols are combined\n",
    "fakes.fillna(\"\", inplace = True)\n",
    "\n",
    "# Combine title and body text to get full sample\n",
    "fakes['text'] = fakes['body'] + fakes['title']\n",
    "fakes.drop(['body', 'title'], inplace = True, axis =1)"
   ]
  },
  {
   "cell_type": "code",
   "execution_count": 132,
   "metadata": {},
   "outputs": [
    {
     "name": "stdout",
     "output_type": "stream",
     "text": [
      "(1187, 2)\n",
      "(1187, 2)\n"
     ]
    }
   ],
   "source": [
    "print(fakes.shape)\n",
    "fakes.drop_duplicates(inplace = True)\n",
    "print(fakes.shape)"
   ]
  },
  {
   "cell_type": "code",
   "execution_count": null,
   "metadata": {},
   "outputs": [],
   "source": []
  },
  {
   "cell_type": "code",
   "execution_count": 43,
   "metadata": {},
   "outputs": [],
   "source": [
    "data['human'] = np.where(data['subreddit'] == 'AskWomen', 1, 0)\n",
    "data.drop('subreddit', inplace = True, axis = 1)"
   ]
  },
  {
   "cell_type": "code",
   "execution_count": 46,
   "metadata": {},
   "outputs": [],
   "source": [
    "data.to_csv('./data/data_cleaned')"
   ]
  },
  {
   "cell_type": "code",
   "execution_count": null,
   "metadata": {},
   "outputs": [],
   "source": [
    "data.drop_duplicates()"
   ]
  }
 ],
 "metadata": {
  "kernelspec": {
   "display_name": "Python 3",
   "language": "python",
   "name": "python3"
  },
  "language_info": {
   "codemirror_mode": {
    "name": "ipython",
    "version": 3
   },
   "file_extension": ".py",
   "mimetype": "text/x-python",
   "name": "python",
   "nbconvert_exporter": "python",
   "pygments_lexer": "ipython3",
   "version": "3.6.5"
  }
 },
 "nbformat": 4,
 "nbformat_minor": 2
}
