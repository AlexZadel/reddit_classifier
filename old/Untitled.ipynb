{
 "cells": [
  {
   "cell_type": "code",
   "execution_count": 76,
   "metadata": {},
   "outputs": [],
   "source": []
  },
  {
   "cell_type": "code",
   "execution_count": 77,
   "metadata": {},
   "outputs": [],
   "source": [
    "def scrape_it(url, post_list):\n",
    "    #initial conditions\n",
    "    after = None\n",
    "    iteration = 0\n",
    "    it_max = 15\n",
    "    print(\"Scraping new list...\")\n",
    "    #loop through and continuously pull\n",
    "    while iteration < it_max:\n",
    "        if after == None:\n",
    "            now_url = url\n",
    "        else:\n",
    "            now_url = url  + '?after=' + after\n",
    "\n",
    "        #open request connection\n",
    "        res = requests.get(now_url, headers = {'User-agent': 'Z1.0'})\n",
    "        reddit_dict = res.json()\n",
    "\n",
    "        #extract the posts from the json and make list of dictionaries\n",
    "        new_posts = [p['data'] for p in reddit_dict['data']['children']]\n",
    "\n",
    "        #append new posts to master list\n",
    "        post_list.extend(new_posts)\n",
    "\n",
    "        #move to next set of posts\n",
    "        after = reddit_dict['data']['after']\n",
    "        print(after)\n",
    "        iteration += 1\n"
   ]
  },
  {
   "cell_type": "code",
   "execution_count": 78,
   "metadata": {},
   "outputs": [
    {
     "name": "stdout",
     "output_type": "stream",
     "text": [
      "Scraping new list...\n",
      "t3_9duker\n",
      "t3_9dl74m\n",
      "t3_9d9397\n",
      "t3_9d79vx\n",
      "t3_9d9uzw\n",
      "t3_9d4cx2\n",
      "t3_9cyube\n",
      "t3_9cqrf7\n",
      "t3_9coqvk\n",
      "t3_9ciup7\n",
      "t3_9cevxe\n",
      "t3_9cd130\n",
      "t3_9c9ts8\n",
      "t3_9c5bz6\n",
      "t3_9bwuti\n"
     ]
    }
   ],
   "source": [
    "test_list = []\n",
    "scrape_it('https://www.reddit.com/r/AskWomen.json/', test_list)"
   ]
  },
  {
   "cell_type": "code",
   "execution_count": 81,
   "metadata": {},
   "outputs": [
    {
     "data": {
      "text/plain": [
       "(376, 89)"
      ]
     },
     "execution_count": 81,
     "metadata": {},
     "output_type": "execute_result"
    }
   ],
   "source": [
    "df = pd.DataFrame(test_list)\n",
    "df.shape"
   ]
  },
  {
   "cell_type": "code",
   "execution_count": 85,
   "metadata": {},
   "outputs": [
    {
     "name": "stdout",
     "output_type": "stream",
     "text": [
      "<class 'pandas.core.frame.DataFrame'>\n",
      "RangeIndex: 376 entries, 0 to 375\n",
      "Data columns (total 89 columns):\n",
      "approved_at_utc                  0 non-null object\n",
      "approved_by                      0 non-null object\n",
      "archived                         376 non-null bool\n",
      "author                           376 non-null object\n",
      "author_flair_background_color    85 non-null object\n",
      "author_flair_css_class           82 non-null object\n",
      "author_flair_richtext            373 non-null object\n",
      "author_flair_template_id         52 non-null object\n",
      "author_flair_text                82 non-null object\n",
      "author_flair_text_color          85 non-null object\n",
      "author_flair_type                373 non-null object\n",
      "author_fullname                  373 non-null object\n",
      "banned_at_utc                    0 non-null object\n",
      "banned_by                        0 non-null object\n",
      "can_gild                         376 non-null bool\n",
      "can_mod_post                     376 non-null bool\n",
      "category                         0 non-null object\n",
      "clicked                          376 non-null bool\n",
      "content_categories               0 non-null object\n",
      "contest_mode                     376 non-null bool\n",
      "created                          376 non-null float64\n",
      "created_utc                      376 non-null float64\n",
      "distinguished                    1 non-null object\n",
      "domain                           376 non-null object\n",
      "downs                            376 non-null int64\n",
      "edited                           376 non-null object\n",
      "gilded                           376 non-null int64\n",
      "hidden                           376 non-null bool\n",
      "hide_score                       376 non-null bool\n",
      "id                               376 non-null object\n",
      "is_crosspostable                 376 non-null bool\n",
      "is_meta                          376 non-null bool\n",
      "is_original_content              376 non-null bool\n",
      "is_reddit_media_domain           376 non-null bool\n",
      "is_self                          376 non-null bool\n",
      "is_video                         376 non-null bool\n",
      "likes                            0 non-null object\n",
      "link_flair_background_color      376 non-null object\n",
      "link_flair_css_class             4 non-null object\n",
      "link_flair_richtext              376 non-null object\n",
      "link_flair_template_id           4 non-null object\n",
      "link_flair_text                  4 non-null object\n",
      "link_flair_text_color            376 non-null object\n",
      "link_flair_type                  376 non-null object\n",
      "locked                           376 non-null bool\n",
      "media                            0 non-null object\n",
      "media_embed                      376 non-null object\n",
      "media_only                       376 non-null bool\n",
      "mod_note                         0 non-null object\n",
      "mod_reason_by                    0 non-null object\n",
      "mod_reason_title                 0 non-null object\n",
      "mod_reports                      376 non-null object\n",
      "name                             376 non-null object\n",
      "no_follow                        376 non-null bool\n",
      "num_comments                     376 non-null int64\n",
      "num_crossposts                   376 non-null int64\n",
      "num_reports                      0 non-null object\n",
      "over_18                          376 non-null bool\n",
      "parent_whitelist_status          376 non-null object\n",
      "permalink                        376 non-null object\n",
      "pinned                           376 non-null bool\n",
      "pwls                             376 non-null int64\n",
      "quarantine                       376 non-null bool\n",
      "removal_reason                   0 non-null object\n",
      "report_reasons                   0 non-null object\n",
      "saved                            376 non-null bool\n",
      "score                            376 non-null int64\n",
      "secure_media                     0 non-null object\n",
      "secure_media_embed               376 non-null object\n",
      "selftext                         376 non-null object\n",
      "selftext_html                    169 non-null object\n",
      "send_replies                     376 non-null bool\n",
      "spoiler                          376 non-null bool\n",
      "stickied                         376 non-null bool\n",
      "subreddit                        376 non-null object\n",
      "subreddit_id                     376 non-null object\n",
      "subreddit_name_prefixed          376 non-null object\n",
      "subreddit_subscribers            376 non-null int64\n",
      "subreddit_type                   376 non-null object\n",
      "suggested_sort                   0 non-null object\n",
      "thumbnail                        376 non-null object\n",
      "title                            376 non-null object\n",
      "ups                              376 non-null int64\n",
      "url                              376 non-null object\n",
      "user_reports                     376 non-null object\n",
      "view_count                       0 non-null object\n",
      "visited                          376 non-null bool\n",
      "whitelist_status                 376 non-null object\n",
      "wls                              376 non-null int64\n",
      "dtypes: bool(24), float64(2), int64(9), object(54)\n",
      "memory usage: 199.8+ KB\n"
     ]
    }
   ],
   "source": [
    "df.info()"
   ]
  },
  {
   "cell_type": "code",
   "execution_count": 86,
   "metadata": {},
   "outputs": [
    {
     "ename": "KeyError",
     "evalue": "\"labels ['Unnamed: 0' 'thumbnail_height' 'thumbnail_width' 'body_html' 'collapsed'\\n 'collapsed_reason' 'controversiality' 'is_submitter' 'link_author'\\n 'link_id' 'link_permalink' 'link_title' 'link_url' 'parent_id' 'replies'\\n 'score_hidden'] not contained in axis\"",
     "output_type": "error",
     "traceback": [
      "\u001b[1;31m---------------------------------------------------------------------------\u001b[0m",
      "\u001b[1;31mKeyError\u001b[0m                                  Traceback (most recent call last)",
      "\u001b[1;32m<ipython-input-86-3b8a5b51317e>\u001b[0m in \u001b[0;36m<module>\u001b[1;34m()\u001b[0m\n\u001b[0;32m     22\u001b[0m            \u001b[1;34m'secure_media_embed'\u001b[0m\u001b[1;33m,\u001b[0m \u001b[1;34m'selftext'\u001b[0m\u001b[1;33m,\u001b[0m \u001b[1;34m'selftext_html'\u001b[0m\u001b[1;33m,\u001b[0m \u001b[1;34m'send_replies'\u001b[0m\u001b[1;33m,\u001b[0m\u001b[1;33m\u001b[0m\u001b[0m\n\u001b[0;32m     23\u001b[0m            'spoiler', 'stickied'],\n\u001b[1;32m---> 24\u001b[1;33m           inplace = True, axis = 1)\n\u001b[0m",
      "\u001b[1;32m~\\Anaconda3\\lib\\site-packages\\pandas\\core\\frame.py\u001b[0m in \u001b[0;36mdrop\u001b[1;34m(self, labels, axis, index, columns, level, inplace, errors)\u001b[0m\n\u001b[0;32m   3692\u001b[0m                                            \u001b[0mindex\u001b[0m\u001b[1;33m=\u001b[0m\u001b[0mindex\u001b[0m\u001b[1;33m,\u001b[0m \u001b[0mcolumns\u001b[0m\u001b[1;33m=\u001b[0m\u001b[0mcolumns\u001b[0m\u001b[1;33m,\u001b[0m\u001b[1;33m\u001b[0m\u001b[0m\n\u001b[0;32m   3693\u001b[0m                                            \u001b[0mlevel\u001b[0m\u001b[1;33m=\u001b[0m\u001b[0mlevel\u001b[0m\u001b[1;33m,\u001b[0m \u001b[0minplace\u001b[0m\u001b[1;33m=\u001b[0m\u001b[0minplace\u001b[0m\u001b[1;33m,\u001b[0m\u001b[1;33m\u001b[0m\u001b[0m\n\u001b[1;32m-> 3694\u001b[1;33m                                            errors=errors)\n\u001b[0m\u001b[0;32m   3695\u001b[0m \u001b[1;33m\u001b[0m\u001b[0m\n\u001b[0;32m   3696\u001b[0m     @rewrite_axis_style_signature('mapper', [('copy', True),\n",
      "\u001b[1;32m~\\Anaconda3\\lib\\site-packages\\pandas\\core\\generic.py\u001b[0m in \u001b[0;36mdrop\u001b[1;34m(self, labels, axis, index, columns, level, inplace, errors)\u001b[0m\n\u001b[0;32m   3106\u001b[0m         \u001b[1;32mfor\u001b[0m \u001b[0maxis\u001b[0m\u001b[1;33m,\u001b[0m \u001b[0mlabels\u001b[0m \u001b[1;32min\u001b[0m \u001b[0maxes\u001b[0m\u001b[1;33m.\u001b[0m\u001b[0mitems\u001b[0m\u001b[1;33m(\u001b[0m\u001b[1;33m)\u001b[0m\u001b[1;33m:\u001b[0m\u001b[1;33m\u001b[0m\u001b[0m\n\u001b[0;32m   3107\u001b[0m             \u001b[1;32mif\u001b[0m \u001b[0mlabels\u001b[0m \u001b[1;32mis\u001b[0m \u001b[1;32mnot\u001b[0m \u001b[1;32mNone\u001b[0m\u001b[1;33m:\u001b[0m\u001b[1;33m\u001b[0m\u001b[0m\n\u001b[1;32m-> 3108\u001b[1;33m                 \u001b[0mobj\u001b[0m \u001b[1;33m=\u001b[0m \u001b[0mobj\u001b[0m\u001b[1;33m.\u001b[0m\u001b[0m_drop_axis\u001b[0m\u001b[1;33m(\u001b[0m\u001b[0mlabels\u001b[0m\u001b[1;33m,\u001b[0m \u001b[0maxis\u001b[0m\u001b[1;33m,\u001b[0m \u001b[0mlevel\u001b[0m\u001b[1;33m=\u001b[0m\u001b[0mlevel\u001b[0m\u001b[1;33m,\u001b[0m \u001b[0merrors\u001b[0m\u001b[1;33m=\u001b[0m\u001b[0merrors\u001b[0m\u001b[1;33m)\u001b[0m\u001b[1;33m\u001b[0m\u001b[0m\n\u001b[0m\u001b[0;32m   3109\u001b[0m \u001b[1;33m\u001b[0m\u001b[0m\n\u001b[0;32m   3110\u001b[0m         \u001b[1;32mif\u001b[0m \u001b[0minplace\u001b[0m\u001b[1;33m:\u001b[0m\u001b[1;33m\u001b[0m\u001b[0m\n",
      "\u001b[1;32m~\\Anaconda3\\lib\\site-packages\\pandas\\core\\generic.py\u001b[0m in \u001b[0;36m_drop_axis\u001b[1;34m(self, labels, axis, level, errors)\u001b[0m\n\u001b[0;32m   3138\u001b[0m                 \u001b[0mnew_axis\u001b[0m \u001b[1;33m=\u001b[0m \u001b[0maxis\u001b[0m\u001b[1;33m.\u001b[0m\u001b[0mdrop\u001b[0m\u001b[1;33m(\u001b[0m\u001b[0mlabels\u001b[0m\u001b[1;33m,\u001b[0m \u001b[0mlevel\u001b[0m\u001b[1;33m=\u001b[0m\u001b[0mlevel\u001b[0m\u001b[1;33m,\u001b[0m \u001b[0merrors\u001b[0m\u001b[1;33m=\u001b[0m\u001b[0merrors\u001b[0m\u001b[1;33m)\u001b[0m\u001b[1;33m\u001b[0m\u001b[0m\n\u001b[0;32m   3139\u001b[0m             \u001b[1;32melse\u001b[0m\u001b[1;33m:\u001b[0m\u001b[1;33m\u001b[0m\u001b[0m\n\u001b[1;32m-> 3140\u001b[1;33m                 \u001b[0mnew_axis\u001b[0m \u001b[1;33m=\u001b[0m \u001b[0maxis\u001b[0m\u001b[1;33m.\u001b[0m\u001b[0mdrop\u001b[0m\u001b[1;33m(\u001b[0m\u001b[0mlabels\u001b[0m\u001b[1;33m,\u001b[0m \u001b[0merrors\u001b[0m\u001b[1;33m=\u001b[0m\u001b[0merrors\u001b[0m\u001b[1;33m)\u001b[0m\u001b[1;33m\u001b[0m\u001b[0m\n\u001b[0m\u001b[0;32m   3141\u001b[0m             \u001b[0mdropped\u001b[0m \u001b[1;33m=\u001b[0m \u001b[0mself\u001b[0m\u001b[1;33m.\u001b[0m\u001b[0mreindex\u001b[0m\u001b[1;33m(\u001b[0m\u001b[1;33m**\u001b[0m\u001b[1;33m{\u001b[0m\u001b[0maxis_name\u001b[0m\u001b[1;33m:\u001b[0m \u001b[0mnew_axis\u001b[0m\u001b[1;33m}\u001b[0m\u001b[1;33m)\u001b[0m\u001b[1;33m\u001b[0m\u001b[0m\n\u001b[0;32m   3142\u001b[0m             \u001b[1;32mtry\u001b[0m\u001b[1;33m:\u001b[0m\u001b[1;33m\u001b[0m\u001b[0m\n",
      "\u001b[1;32m~\\Anaconda3\\lib\\site-packages\\pandas\\core\\indexes\\base.py\u001b[0m in \u001b[0;36mdrop\u001b[1;34m(self, labels, errors)\u001b[0m\n\u001b[0;32m   4385\u001b[0m             \u001b[1;32mif\u001b[0m \u001b[0merrors\u001b[0m \u001b[1;33m!=\u001b[0m \u001b[1;34m'ignore'\u001b[0m\u001b[1;33m:\u001b[0m\u001b[1;33m\u001b[0m\u001b[0m\n\u001b[0;32m   4386\u001b[0m                 raise KeyError(\n\u001b[1;32m-> 4387\u001b[1;33m                     'labels %s not contained in axis' % labels[mask])\n\u001b[0m\u001b[0;32m   4388\u001b[0m             \u001b[0mindexer\u001b[0m \u001b[1;33m=\u001b[0m \u001b[0mindexer\u001b[0m\u001b[1;33m[\u001b[0m\u001b[1;33m~\u001b[0m\u001b[0mmask\u001b[0m\u001b[1;33m]\u001b[0m\u001b[1;33m\u001b[0m\u001b[0m\n\u001b[0;32m   4389\u001b[0m         \u001b[1;32mreturn\u001b[0m \u001b[0mself\u001b[0m\u001b[1;33m.\u001b[0m\u001b[0mdelete\u001b[0m\u001b[1;33m(\u001b[0m\u001b[0mindexer\u001b[0m\u001b[1;33m)\u001b[0m\u001b[1;33m\u001b[0m\u001b[0m\n",
      "\u001b[1;31mKeyError\u001b[0m: \"labels ['Unnamed: 0' 'thumbnail_height' 'thumbnail_width' 'body_html' 'collapsed'\\n 'collapsed_reason' 'controversiality' 'is_submitter' 'link_author'\\n 'link_id' 'link_permalink' 'link_title' 'link_url' 'parent_id' 'replies'\\n 'score_hidden'] not contained in axis\""
     ]
    }
   ],
   "source": [
    "df.drop(['Unnamed: 0', 'approved_at_utc', 'approved_by', 'archived', 'author_flair_background_color',\n",
    "           'author_flair_css_class', 'author_flair_richtext', 'author_flair_template_id', 'thumbnail_height', \n",
    "           'thumbnail_width', 'whitelist_status', 'wls', 'subreddit_name_prefixed', 'subreddit_subscribers', \n",
    "           'subreddit_type', 'suggested_sort', 'thumbnail', 'ups', 'url', 'user_reports', 'view_count',\n",
    "           'visited', 'author_flair_text', 'author_flair_text_color', 'author_flair_type', 'author_fullname', \n",
    "           'banned_at_utc', 'banned_by', 'body_html', 'can_gild', 'can_mod_post', 'category', 'clicked',\n",
    "            'collapsed', 'collapsed_reason', 'content_categories', 'contest_mode',\n",
    "           'controversiality', 'created', 'created_utc', 'distinguished', 'domain',\n",
    "           'downs', 'edited', 'gilded', 'hidden', 'hide_score', 'id',\n",
    "           'is_crosspostable', 'is_meta', 'is_original_content',\n",
    "           'is_reddit_media_domain', 'is_self', 'is_submitter', 'is_video',\n",
    "           'likes', 'link_author', 'link_flair_background_color',\n",
    "           'link_flair_css_class', 'link_flair_richtext', 'link_flair_template_id',\n",
    "           'link_flair_text', 'link_flair_text_color', 'link_flair_type',\n",
    "           'link_id', 'link_permalink', 'link_title', 'link_url', 'locked',\n",
    "           'media', 'media_embed', 'media_only', 'mod_note', 'mod_reason_by',\n",
    "           'mod_reason_title', 'mod_reports', 'name', 'no_follow', 'num_comments',\n",
    "           'num_crossposts', 'num_reports', 'over_18', 'parent_id',\n",
    "           'parent_whitelist_status', 'permalink', 'pinned', 'pwls',\n",
    "           'quarantine', 'removal_reason', 'replies',\n",
    "           'report_reasons', 'saved', 'score', 'score_hidden', 'secure_media',\n",
    "           'secure_media_embed', 'selftext', 'selftext_html', 'send_replies',\n",
    "           'spoiler', 'stickied'],\n",
    "          inplace = True, axis = 1)"
   ]
  },
  {
   "cell_type": "code",
   "execution_count": null,
   "metadata": {},
   "outputs": [],
   "source": []
  }
 ],
 "metadata": {
  "kernelspec": {
   "display_name": "Python 3",
   "language": "python",
   "name": "python3"
  },
  "language_info": {
   "codemirror_mode": {
    "name": "ipython",
    "version": 3
   },
   "file_extension": ".py",
   "mimetype": "text/x-python",
   "name": "python",
   "nbconvert_exporter": "python",
   "pygments_lexer": "ipython3",
   "version": "3.6.5"
  }
 },
 "nbformat": 4,
 "nbformat_minor": 2
}
